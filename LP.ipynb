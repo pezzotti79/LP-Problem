{
  "nbformat": 4,
  "nbformat_minor": 0,
  "metadata": {
    "colab": {
      "provenance": []
    },
    "kernelspec": {
      "name": "python3",
      "display_name": "Python 3"
    },
    "language_info": {
      "name": "python"
    }
  },
  "cells": [
    {
      "cell_type": "code",
      "source": [
        "!pip install cplex\n",
        "!pip install docplex"
      ],
      "metadata": {
        "id": "K1jKBCqvQOGH",
        "colab": {
          "base_uri": "https://localhost:8080/"
        },
        "outputId": "0da6f694-1e78-49ee-b657-fa3766e538ce"
      },
      "execution_count": null,
      "outputs": [
        {
          "output_type": "stream",
          "name": "stdout",
          "text": [
            "Collecting cplex\n",
            "  Downloading cplex-22.1.2.0-cp311-cp311-manylinux2014_x86_64.whl.metadata (56 kB)\n",
            "\u001b[2K     \u001b[90m━━━━━━━━━━━━━━━━━━━━━━━━━━━━━━━━━━━━━━━━\u001b[0m \u001b[32m57.0/57.0 kB\u001b[0m \u001b[31m2.0 MB/s\u001b[0m eta \u001b[36m0:00:00\u001b[0m\n",
            "\u001b[?25hDownloading cplex-22.1.2.0-cp311-cp311-manylinux2014_x86_64.whl (44.3 MB)\n",
            "\u001b[2K   \u001b[90m━━━━━━━━━━━━━━━━━━━━━━━━━━━━━━━━━━━━━━━━\u001b[0m \u001b[32m44.3/44.3 MB\u001b[0m \u001b[31m10.9 MB/s\u001b[0m eta \u001b[36m0:00:00\u001b[0m\n",
            "\u001b[?25hInstalling collected packages: cplex\n",
            "Successfully installed cplex-22.1.2.0\n",
            "Collecting docplex\n",
            "  Downloading docplex-2.29.241.tar.gz (645 kB)\n",
            "\u001b[2K     \u001b[90m━━━━━━━━━━━━━━━━━━━━━━━━━━━━━━━━━━━━━━━━\u001b[0m \u001b[32m645.5/645.5 kB\u001b[0m \u001b[31m13.3 MB/s\u001b[0m eta \u001b[36m0:00:00\u001b[0m\n",
            "\u001b[?25h  Installing build dependencies ... \u001b[?25l\u001b[?25hdone\n",
            "  Getting requirements to build wheel ... \u001b[?25l\u001b[?25hdone\n",
            "  Installing backend dependencies ... \u001b[?25l\u001b[?25hdone\n",
            "  Preparing metadata (pyproject.toml) ... \u001b[?25l\u001b[?25hdone\n",
            "Requirement already satisfied: six in /usr/local/lib/python3.11/dist-packages (from docplex) (1.17.0)\n",
            "Building wheels for collected packages: docplex\n",
            "  Building wheel for docplex (pyproject.toml) ... \u001b[?25l\u001b[?25hdone\n",
            "  Created wheel for docplex: filename=docplex-2.29.241-py3-none-any.whl size=685423 sha256=967b9b6e5011d56373aefcd03157d0cbd1e317287c9e5592debabb5188168e20\n",
            "  Stored in directory: /root/.cache/pip/wheels/00/4f/37/fbc42df1f9b6786024d4b39c81f0b373c84e6fab9e18513fc2\n",
            "Successfully built docplex\n",
            "Installing collected packages: docplex\n",
            "Successfully installed docplex-2.29.241\n"
          ]
        }
      ]
    },
    {
      "source": [
        "from docplex.mp.model import Model\n",
        "\n",
        "# Create an instance of the Model class\n",
        "model = Model(name='MyModel')  # You can give it a name if you want\n",
        "\n",
        "# Now you can use the model object to create variables\n",
        "x1 = model.continuous_var(name=\"Investment_Stock_A\")\n",
        "x2 = model.continuous_var(name=\"Investment_Stock_B\")\n",
        "x3 = model.continuous_var(name=\"Investment_Stock_C\")"
      ],
      "cell_type": "code",
      "metadata": {
        "id": "8RlYsfSzpvP7"
      },
      "execution_count": 5,
      "outputs": []
    },
    {
      "cell_type": "code",
      "source": [
        "model.maximize(0.08 * x1 + 0.12 * x2 + 0.10 * x3)"
      ],
      "metadata": {
        "id": "dnVbvUeGp045"
      },
      "execution_count": 6,
      "outputs": []
    },
    {
      "cell_type": "code",
      "source": [
        "# Constraints\n",
        "model.add_constraint(x1 + x2 + x3 <= 50000, \"Total_Investment\")  # Budget limit\n",
        "model.add_constraint(x2 <= 0.4 * (x1 + x2 + x3), \"Risk_Limit\")  # Stock B risk constraint\n",
        "model.add_constraint(x3 >= 10000, \"Min_Investment_Stock_C\")  # Minimum investment in Stock C"
      ],
      "metadata": {
        "colab": {
          "base_uri": "https://localhost:8080/"
        },
        "id": "BVtgRWFCp6gh",
        "outputId": "8d820340-a0d8-4f3c-df79-b2205a9d8645"
      },
      "execution_count": 7,
      "outputs": [
        {
          "output_type": "execute_result",
          "data": {
            "text/plain": [
              "docplex.mp.LinearConstraint[Min_Investment_Stock_C](Investment_Stock_C,GE,10000)"
            ]
          },
          "metadata": {},
          "execution_count": 7
        }
      ]
    },
    {
      "cell_type": "code",
      "source": [
        "solution = model.solve()"
      ],
      "metadata": {
        "id": "B6Ck4J9dp9hf"
      },
      "execution_count": 8,
      "outputs": []
    },
    {
      "cell_type": "code",
      "source": [
        "if solution:\n",
        "    print(f\"Optimal Investment Strategy:\")\n",
        "    print(f\"Stock A: ${solution[x1]:,.2f}\")\n",
        "    print(f\"Stock B: ${solution[x2]:,.2f}\")\n",
        "    print(f\"Stock C: ${solution[x3]:,.2f}\")\n",
        "    print(f\"Maximum Expected Return: ${solution.objective_value:,.2f}\")\n",
        "else:\n",
        "    print(\"No optimal solution found.\")"
      ],
      "metadata": {
        "colab": {
          "base_uri": "https://localhost:8080/"
        },
        "id": "2gXO452gqAAF",
        "outputId": "f2e08117-7645-4556-aaef-1a8f02784bf6"
      },
      "execution_count": 9,
      "outputs": [
        {
          "output_type": "stream",
          "name": "stdout",
          "text": [
            "Optimal Investment Strategy:\n",
            "Stock A: $0.00\n",
            "Stock B: $20,000.00\n",
            "Stock C: $30,000.00\n",
            "Maximum Expected Return: $5,400.00\n"
          ]
        }
      ]
    }
  ]
}